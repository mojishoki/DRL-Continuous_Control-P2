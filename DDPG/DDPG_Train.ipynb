{
 "cells": [
  {
   "cell_type": "code",
   "execution_count": 1,
   "metadata": {},
   "outputs": [
    {
     "name": "stderr",
     "output_type": "stream",
     "text": [
      "INFO:unityagents:\n",
      "'Academy' started successfully!\n",
      "Unity Academy name: Academy\n",
      "        Number of Brains: 1\n",
      "        Number of External Brains : 1\n",
      "        Lesson number : 0\n",
      "        Reset Parameters :\n",
      "\t\tgoal_speed -> 1.0\n",
      "\t\tgoal_size -> 5.0\n",
      "Unity brain name: ReacherBrain\n",
      "        Number of Visual Observations (per agent): 0\n",
      "        Vector Observation space type: continuous\n",
      "        Vector Observation space size (per agent): 33\n",
      "        Number of stacked Vector Observation: 1\n",
      "        Vector Action space type: continuous\n",
      "        Vector Action space size (per agent): 4\n",
      "        Vector Action descriptions: , , , \n"
     ]
    },
    {
     "name": "stdout",
     "output_type": "stream",
     "text": [
      "Number of agents: 20\n",
      "Size of each action: 4\n",
      "There are 20 agents. Each observes a state with length: 33\n",
      "The state for the first agent looks like: [ 0.00000000e+00 -4.00000000e+00  0.00000000e+00  1.00000000e+00\n",
      " -0.00000000e+00 -0.00000000e+00 -4.37113883e-08  0.00000000e+00\n",
      "  0.00000000e+00  0.00000000e+00  0.00000000e+00  0.00000000e+00\n",
      "  0.00000000e+00  0.00000000e+00 -1.00000000e+01  0.00000000e+00\n",
      "  1.00000000e+00 -0.00000000e+00 -0.00000000e+00 -4.37113883e-08\n",
      "  0.00000000e+00  0.00000000e+00  0.00000000e+00  0.00000000e+00\n",
      "  0.00000000e+00  0.00000000e+00  5.75471878e+00 -1.00000000e+00\n",
      "  5.55726624e+00  0.00000000e+00  1.00000000e+00  0.00000000e+00\n",
      " -1.68164849e-01]\n"
     ]
    }
   ],
   "source": [
    "import sys,os\n",
    "path=os.path.dirname(os.getcwd())\n",
    "sys.path.append(path)\n",
    "from unityagents  import UnityEnvironment\n",
    "import numpy as np\n",
    "import matplotlib.pyplot as plt\n",
    "%matplotlib inline\n",
    "import warnings\n",
    "warnings.filterwarnings('ignore')\n",
    "#for 20 agents: \n",
    "env = UnityEnvironment(file_name=path+'/Reacher_Windows_x86_64_20/Reacher.exe')\n",
    "#for 1 agent:\n",
    "# env = UnityEnvironment(file_name=path+'/Reacher_Windows_x86_64/Reacher.exe')\n",
    "brain_name = env.brain_names[0]\n",
    "brain = env.brains[brain_name]\n",
    "# reset the environment\n",
    "env_info = env.reset(train_mode=True)[brain_name]\n",
    "\n",
    "# number of agents\n",
    "num_agents = len(env_info.agents)\n",
    "print('Number of agents:', num_agents)\n",
    "\n",
    "# size of each action\n",
    "action_size = brain.vector_action_space_size\n",
    "print('Size of each action:', action_size)\n",
    "\n",
    "# examine the state space \n",
    "states = env_info.vector_observations\n",
    "state_size = states.shape[1]\n",
    "print('There are {} agents. Each observes a state with length: {}'.format(states.shape[0], state_size))\n",
    "print('The state for the first agent looks like:', states[0])"
   ]
  },
  {
   "cell_type": "code",
   "execution_count": 1,
   "metadata": {},
   "outputs": [],
   "source": [
    "from ddpg_agent import *\n",
    "from ddpg_train import *\n",
    "# In case you want to just check the agent (not train or watch) uncomment below\n",
    "# state_size=33\n",
    "# action_size=4"
   ]
  },
  {
   "cell_type": "code",
   "execution_count": 3,
   "metadata": {},
   "outputs": [],
   "source": [
    "agent = ddpg_agent(state_size,action_size,batch_size=128,buffer_size=1000000,gamma=0.99,tau=0.001,lr_actor=0.001,\n",
    "                   lr_critic=0.001,weight_decay=0,update_every=20,learn_num=10,random_seed=1)"
   ]
  },
  {
   "cell_type": "code",
   "execution_count": 6,
   "metadata": {
    "scrolled": true
   },
   "outputs": [
    {
     "name": "stdout",
     "output_type": "stream",
     "text": [
      "Episode 1 (214 sec)  -- \tMin: 0.1\tMax: 1.7\tMean: 0.6\tMov. Avg: 0.6\n",
      "Episode 2 (210 sec)  -- \tMin: 0.5\tMax: 2.8\tMean: 1.5\tMov. Avg: 1.0\n",
      "Episode 3 (213 sec)  -- \tMin: 0.6\tMax: 5.7\tMean: 2.5\tMov. Avg: 1.5\n",
      "Episode 4 (223 sec)  -- \tMin: 1.3\tMax: 5.0\tMean: 3.3\tMov. Avg: 2.0\n",
      "Episode 5 (224 sec)  -- \tMin: 1.9\tMax: 8.2\tMean: 4.2\tMov. Avg: 2.4\n",
      "Episode 6 (224 sec)  -- \tMin: 2.0\tMax: 6.6\tMean: 4.7\tMov. Avg: 2.8\n",
      "Episode 7 (226 sec)  -- \tMin: 3.1\tMax: 18.5\tMean: 6.6\tMov. Avg: 3.3\n",
      "Episode 8 (222 sec)  -- \tMin: 4.2\tMax: 12.0\tMean: 8.2\tMov. Avg: 4.0\n",
      "Episode 9 (216 sec)  -- \tMin: 5.5\tMax: 12.5\tMean: 8.0\tMov. Avg: 4.4\n",
      "Episode 10 (218 sec)  -- \tMin: 6.6\tMax: 15.3\tMean: 10.7\tMov. Avg: 5.0\n",
      "Episode 11 (218 sec)  -- \tMin: 7.6\tMax: 15.2\tMean: 11.3\tMov. Avg: 5.6\n",
      "Episode 12 (220 sec)  -- \tMin: 8.3\tMax: 17.9\tMean: 12.4\tMov. Avg: 6.2\n",
      "Episode 13 (223 sec)  -- \tMin: 8.6\tMax: 21.6\tMean: 14.4\tMov. Avg: 6.8\n",
      "Episode 14 (226 sec)  -- \tMin: 8.8\tMax: 19.9\tMean: 14.2\tMov. Avg: 7.3\n",
      "Episode 15 (226 sec)  -- \tMin: 9.5\tMax: 20.4\tMean: 15.4\tMov. Avg: 7.9\n",
      "Episode 16 (228 sec)  -- \tMin: 7.3\tMax: 20.0\tMean: 14.7\tMov. Avg: 8.3\n",
      "Episode 17 (227 sec)  -- \tMin: 10.9\tMax: 24.1\tMean: 16.5\tMov. Avg: 8.8\n",
      "Episode 18 (230 sec)  -- \tMin: 10.2\tMax: 21.8\tMean: 15.9\tMov. Avg: 9.2\n",
      "Episode 19 (232 sec)  -- \tMin: 13.9\tMax: 23.4\tMean: 19.3\tMov. Avg: 9.7\n",
      "Episode 20 (231 sec)  -- \tMin: 12.7\tMax: 24.9\tMean: 17.4\tMov. Avg: 10.1\n",
      "Episode 21 (238 sec)  -- \tMin: 14.8\tMax: 32.3\tMean: 20.4\tMov. Avg: 10.6\n",
      "Episode 22 (250 sec)  -- \tMin: 13.9\tMax: 27.2\tMean: 21.0\tMov. Avg: 11.1\n",
      "Episode 23 (252 sec)  -- \tMin: 14.9\tMax: 30.0\tMean: 23.9\tMov. Avg: 11.6\n",
      "Episode 24 (253 sec)  -- \tMin: 18.4\tMax: 29.6\tMean: 24.4\tMov. Avg: 12.2\n",
      "Episode 25 (255 sec)  -- \tMin: 17.1\tMax: 31.3\tMean: 24.4\tMov. Avg: 12.6\n",
      "Episode 26 (256 sec)  -- \tMin: 18.7\tMax: 32.9\tMean: 27.3\tMov. Avg: 13.2\n",
      "Episode 27 (258 sec)  -- \tMin: 19.7\tMax: 37.2\tMean: 28.7\tMov. Avg: 13.8\n",
      "Episode 28 (259 sec)  -- \tMin: 23.5\tMax: 36.6\tMean: 29.6\tMov. Avg: 14.3\n",
      "Episode 29 (260 sec)  -- \tMin: 26.4\tMax: 38.1\tMean: 32.0\tMov. Avg: 15.0\n",
      "Episode 30 (262 sec)  -- \tMin: 18.5\tMax: 38.4\tMean: 30.2\tMov. Avg: 15.5\n",
      "Episode 31 (263 sec)  -- \tMin: 26.5\tMax: 36.9\tMean: 32.1\tMov. Avg: 16.0\n",
      "Episode 32 (265 sec)  -- \tMin: 27.3\tMax: 37.9\tMean: 32.8\tMov. Avg: 16.5\n",
      "Episode 33 (267 sec)  -- \tMin: 27.1\tMax: 37.3\tMean: 32.0\tMov. Avg: 17.0\n",
      "Episode 34 (268 sec)  -- \tMin: 26.2\tMax: 37.4\tMean: 32.6\tMov. Avg: 17.5\n",
      "Episode 35 (270 sec)  -- \tMin: 24.6\tMax: 39.0\tMean: 32.9\tMov. Avg: 17.9\n",
      "Episode 36 (271 sec)  -- \tMin: 30.9\tMax: 36.4\tMean: 33.7\tMov. Avg: 18.3\n",
      "Episode 37 (273 sec)  -- \tMin: 28.3\tMax: 37.7\tMean: 34.0\tMov. Avg: 18.8\n",
      "Episode 38 (274 sec)  -- \tMin: 31.4\tMax: 39.1\tMean: 34.8\tMov. Avg: 19.2\n",
      "Episode 39 (276 sec)  -- \tMin: 29.4\tMax: 38.3\tMean: 35.3\tMov. Avg: 19.6\n",
      "Episode 40 (277 sec)  -- \tMin: 27.0\tMax: 39.6\tMean: 34.4\tMov. Avg: 20.0\n",
      "Episode 41 (278 sec)  -- \tMin: 29.4\tMax: 38.4\tMean: 34.5\tMov. Avg: 20.3\n",
      "Episode 42 (280 sec)  -- \tMin: 28.7\tMax: 39.2\tMean: 36.6\tMov. Avg: 20.7\n",
      "Episode 43 (282 sec)  -- \tMin: 32.3\tMax: 39.5\tMean: 37.6\tMov. Avg: 21.1\n",
      "Episode 44 (284 sec)  -- \tMin: 30.0\tMax: 39.6\tMean: 36.4\tMov. Avg: 21.4\n",
      "Episode 45 (284 sec)  -- \tMin: 31.4\tMax: 39.3\tMean: 36.3\tMov. Avg: 21.8\n",
      "Episode 46 (277 sec)  -- \tMin: 32.7\tMax: 39.4\tMean: 37.4\tMov. Avg: 22.1\n",
      "Episode 47 (267 sec)  -- \tMin: 33.7\tMax: 39.5\tMean: 37.1\tMov. Avg: 22.4\n",
      "Episode 48 (265 sec)  -- \tMin: 34.1\tMax: 38.3\tMean: 36.5\tMov. Avg: 22.7\n",
      "Episode 49 (265 sec)  -- \tMin: 34.1\tMax: 39.5\tMean: 36.9\tMov. Avg: 23.0\n",
      "Episode 50 (267 sec)  -- \tMin: 33.5\tMax: 39.2\tMean: 37.2\tMov. Avg: 23.3\n",
      "Episode 51 (269 sec)  -- \tMin: 37.2\tMax: 39.3\tMean: 38.5\tMov. Avg: 23.6\n",
      "Episode 52 (269 sec)  -- \tMin: 36.8\tMax: 39.5\tMean: 38.5\tMov. Avg: 23.9\n",
      "Episode 53 (269 sec)  -- \tMin: 37.3\tMax: 39.5\tMean: 38.5\tMov. Avg: 24.2\n",
      "Episode 54 (269 sec)  -- \tMin: 36.1\tMax: 39.5\tMean: 38.7\tMov. Avg: 24.4\n",
      "Episode 55 (269 sec)  -- \tMin: 37.6\tMax: 39.5\tMean: 38.7\tMov. Avg: 24.7\n",
      "Episode 56 (268 sec)  -- \tMin: 38.4\tMax: 39.6\tMean: 39.2\tMov. Avg: 25.0\n",
      "Episode 57 (269 sec)  -- \tMin: 32.7\tMax: 39.6\tMean: 37.3\tMov. Avg: 25.2\n",
      "Episode 58 (269 sec)  -- \tMin: 36.6\tMax: 39.6\tMean: 38.8\tMov. Avg: 25.4\n",
      "Episode 59 (278 sec)  -- \tMin: 36.7\tMax: 39.6\tMean: 38.7\tMov. Avg: 25.6\n",
      "Episode 60 (291 sec)  -- \tMin: 38.6\tMax: 39.6\tMean: 39.3\tMov. Avg: 25.9\n",
      "Episode 61 (290 sec)  -- \tMin: 37.7\tMax: 39.6\tMean: 39.1\tMov. Avg: 26.1\n",
      "Episode 62 (291 sec)  -- \tMin: 38.3\tMax: 39.6\tMean: 39.2\tMov. Avg: 26.3\n",
      "Episode 63 (291 sec)  -- \tMin: 38.6\tMax: 39.6\tMean: 39.3\tMov. Avg: 26.5\n",
      "Episode 64 (291 sec)  -- \tMin: 37.7\tMax: 39.6\tMean: 39.1\tMov. Avg: 26.7\n",
      "Episode 65 (291 sec)  -- \tMin: 38.7\tMax: 39.6\tMean: 39.3\tMov. Avg: 26.9\n",
      "Episode 66 (293 sec)  -- \tMin: 38.0\tMax: 39.7\tMean: 39.3\tMov. Avg: 27.1\n",
      "Episode 67 (283 sec)  -- \tMin: 38.7\tMax: 39.6\tMean: 39.4\tMov. Avg: 27.3\n",
      "Episode 68 (284 sec)  -- \tMin: 38.6\tMax: 39.6\tMean: 39.4\tMov. Avg: 27.4\n",
      "Episode 69 (283 sec)  -- \tMin: 38.1\tMax: 39.6\tMean: 39.3\tMov. Avg: 27.6\n",
      "Episode 70 (283 sec)  -- \tMin: 37.8\tMax: 39.7\tMean: 39.0\tMov. Avg: 27.8\n",
      "Episode 71 (276 sec)  -- \tMin: 38.6\tMax: 39.6\tMean: 39.3\tMov. Avg: 27.9\n",
      "Episode 72 (270 sec)  -- \tMin: 38.5\tMax: 39.7\tMean: 39.3\tMov. Avg: 28.1\n",
      "Episode 73 (268 sec)  -- \tMin: 36.0\tMax: 39.6\tMean: 38.8\tMov. Avg: 28.2\n",
      "Episode 74 (273 sec)  -- \tMin: 37.7\tMax: 39.6\tMean: 39.0\tMov. Avg: 28.4\n",
      "Episode 75 (282 sec)  -- \tMin: 37.3\tMax: 39.6\tMean: 38.9\tMov. Avg: 28.5\n",
      "Episode 76 (281 sec)  -- \tMin: 36.1\tMax: 39.6\tMean: 38.8\tMov. Avg: 28.7\n",
      "Episode 77 (280 sec)  -- \tMin: 36.5\tMax: 39.6\tMean: 38.8\tMov. Avg: 28.8\n",
      "Episode 78 (288 sec)  -- \tMin: 35.8\tMax: 39.6\tMean: 38.5\tMov. Avg: 28.9\n",
      "Episode 79 (289 sec)  -- \tMin: 37.5\tMax: 39.7\tMean: 39.2\tMov. Avg: 29.0\n",
      "Episode 80 (289 sec)  -- \tMin: 36.8\tMax: 39.7\tMean: 39.2\tMov. Avg: 29.2\n",
      "Episode 81 (289 sec)  -- \tMin: 38.2\tMax: 39.7\tMean: 39.2\tMov. Avg: 29.3\n",
      "Episode 82 (289 sec)  -- \tMin: 38.9\tMax: 39.6\tMean: 39.4\tMov. Avg: 29.4\n",
      "Episode 83 (289 sec)  -- \tMin: 35.5\tMax: 39.6\tMean: 38.8\tMov. Avg: 29.5\n",
      "Episode 84 (289 sec)  -- \tMin: 35.1\tMax: 39.6\tMean: 38.3\tMov. Avg: 29.6\n",
      "Episode 85 (289 sec)  -- \tMin: 34.2\tMax: 39.4\tMean: 37.2\tMov. Avg: 29.7\n",
      "Episode 86 (289 sec)  -- \tMin: 36.0\tMax: 39.6\tMean: 38.5\tMov. Avg: 29.8\n",
      "Episode 87 (289 sec)  -- \tMin: 36.6\tMax: 39.5\tMean: 38.7\tMov. Avg: 29.9\n",
      "Episode 88 (289 sec)  -- \tMin: 24.2\tMax: 39.4\tMean: 36.9\tMov. Avg: 30.0\n",
      "Episode 89 (289 sec)  -- \tMin: 35.0\tMax: 39.4\tMean: 37.7\tMov. Avg: 30.1\n",
      "Episode 90 (289 sec)  -- \tMin: 35.5\tMax: 39.2\tMean: 37.9\tMov. Avg: 30.2\n",
      "Episode 91 (288 sec)  -- \tMin: 33.6\tMax: 39.5\tMean: 37.2\tMov. Avg: 30.3\n",
      "Episode 92 (286 sec)  -- \tMin: 33.9\tMax: 39.3\tMean: 37.4\tMov. Avg: 30.3\n",
      "Episode 93 (287 sec)  -- \tMin: 33.0\tMax: 39.4\tMean: 37.8\tMov. Avg: 30.4\n",
      "Episode 94 (285 sec)  -- \tMin: 37.3\tMax: 39.6\tMean: 38.7\tMov. Avg: 30.5\n",
      "Episode 95 (287 sec)  -- \tMin: 36.4\tMax: 39.6\tMean: 37.9\tMov. Avg: 30.6\n",
      "Episode 96 (289 sec)  -- \tMin: 36.5\tMax: 39.6\tMean: 38.2\tMov. Avg: 30.7\n",
      "Episode 97 (278 sec)  -- \tMin: 33.2\tMax: 39.6\tMean: 37.7\tMov. Avg: 30.7\n",
      "Episode 98 (268 sec)  -- \tMin: 35.5\tMax: 39.6\tMean: 38.7\tMov. Avg: 30.8\n",
      "Episode 99 (269 sec)  -- \tMin: 37.1\tMax: 39.6\tMean: 39.0\tMov. Avg: 30.9\n",
      "Episode 100 (268 sec)  -- \tMin: 35.5\tMax: 38.9\tMean: 37.5\tMov. Avg: 31.0\n",
      "\n",
      "Environment SOLVED in 0 episodes!\tMoving Average =31.0 over last 100 episodes\n"
     ]
    }
   ],
   "source": [
    "mean_scores,min_scores,max_scores,moving_avgs,stats=ddpg_train(agent,env,brain_name,n_episodes=500, max_t=1000,\n",
    "                                                               target_score=30.0,\n",
    "                                                               window_size=100, print_every=1, train_mode=True)"
   ]
  },
  {
   "cell_type": "markdown",
   "metadata": {},
   "source": [
    "Plotting the results above. Notice moving average reached above 30 by 90 episodes!"
   ]
  },
  {
   "cell_type": "code",
   "execution_count": 4,
   "metadata": {
    "scrolled": true
   },
   "outputs": [
    {
     "name": "stdout",
     "output_type": "stream",
     "text": [
      "\r",
      "Episode 100\tAverage Score: 30.96\n",
      "\n",
      "Environment solved in 100 episodes!\tAverage Score: 30.96\n"
     ]
    },
    {
     "data": {
      "image/png": "[encoded data removed]",
      "text/plain": [
       "<Figure size 432x288 with 1 Axes>"
      ]
     },
     "metadata": {
      "needs_background": "light"
     },
     "output_type": "display_data"
    }
   ],
   "source": [
    "from plot_saved_results import *\n",
    "plot_results(f'Checkpoints/scoresDDPG1e61280.991e-31e-31e-302010sigma0.02theta0.04seed1solved100','DDPG')"
   ]
  },
  {
   "cell_type": "markdown",
   "metadata": {},
   "source": [
    "Loading the best agent and watching it play one episode:"
   ]
  },
  {
   "cell_type": "code",
   "execution_count": 6,
   "metadata": {},
   "outputs": [],
   "source": [
    "agent.actor_local.load_state_dict(torch.load(f'Checkpoints/actor_ckpt_1e61280.991e-31e-31e-302010sigma0.02theta0.04seed1.pth',map_location=device))\n",
    "agent.critic_local.load_state_dict(torch.load(f'Checkpoints/critic_ckpt_1e61280.991e-31e-31e-302010sigma0.02theta0.04seed1.pth',map_location=device))"
   ]
  },
  {
   "cell_type": "code",
   "execution_count": null,
   "metadata": {},
   "outputs": [],
   "source": [
    "from agent_play import *\n",
    "score_list=agent_play(agent,env,brain_name,train_mode=False,view_episodes=1)"
   ]
  },
  {
   "cell_type": "code",
   "execution_count": null,
   "metadata": {},
   "outputs": [],
   "source": [
    "env.close()"
   ]
  },
  {
   "cell_type": "markdown",
   "metadata": {},
   "source": [
    "Testing the `OUNoise` at different scales with different `sigma` and `theta` values:"
   ]
  },
  {
   "cell_type": "code",
   "execution_count": 52,
   "metadata": {},
   "outputs": [
    {
     "name": "stdout",
     "output_type": "stream",
     "text": [
      "for sigma=0.2 and theta=0.15\n",
      "average over 1000 steps: 0.31891974557265346\n",
      "average over each 1000th step over 1,000,000 steps: 0.3051923804639788\n",
      "for sigma=0.02 and theta=0.04\n",
      "average over 1000 steps: 0.05971867422804449\n",
      "average over each 1000th step over 1,000,000 steps: 0.057779701850004445\n"
     ]
    }
   ],
   "source": [
    "agent.noise.sigma=0.2\n",
    "agent.noise.theta=0.15\n",
    "testou=[]\n",
    "for _ in range(1000):\n",
    "    testou.append(agent.noise.sample())\n",
    "agent.noise.reset()\n",
    "print(\"for sigma=0.2 and theta=0.15\")\n",
    "print(\"average over 1000 steps:\",np.mean(np.abs(testou)))\n",
    "testou=[]\n",
    "for _ in range(1000):\n",
    "    for _ in range(1000):\n",
    "        agent.noise.sample()\n",
    "    testou.append(agent.noise.sample())\n",
    "    agent.noise.reset()\n",
    "print(\"average over each 1000th step over 1,000,000 steps:\",np.mean(np.abs(testou)))\n",
    "\n",
    "agent.noise.sigma=0.02\n",
    "agent.noise.theta=0.04\n",
    "testou=[]\n",
    "for _ in range(1000):\n",
    "    testou.append(agent.noise.sample())\n",
    "agent.noise.reset()\n",
    "print(\"for sigma=0.02 and theta=0.04\")\n",
    "print(\"average over 1000 steps:\",np.mean(np.abs(testou)))\n",
    "testou=[]\n",
    "for _ in range(1000):\n",
    "    for _ in range(1000):\n",
    "        agent.noise.sample()\n",
    "    testou.append(agent.noise.sample())\n",
    "    agent.noise.reset()\n",
    "print(\"average over each 1000th step over 1,000,000 steps:\",np.mean(np.abs(testou)))"
   ]
  }
 ],
 "metadata": {
  "kernelspec": {
   "display_name": "Python 3",
   "language": "python",
   "name": "python3"
  },
  "language_info": {
   "codemirror_mode": {
    "name": "ipython",
    "version": 3
   },
   "file_extension": ".py",
   "mimetype": "text/x-python",
   "name": "python",
   "nbconvert_exporter": "python",
   "pygments_lexer": "ipython3",
   "version": "3.6.8"
  }
 },
 "nbformat": 4,
 "nbformat_minor": 2
}
